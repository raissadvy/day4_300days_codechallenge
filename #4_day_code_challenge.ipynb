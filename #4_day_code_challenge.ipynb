{
 "cells": [
  {
   "cell_type": "code",
   "execution_count": 22,
   "metadata": {},
   "outputs": [],
   "source": [
    "import mysql.connector\n",
    "import sqlalchemy as db\n",
    "import pandas as pd\n",
    "import numpy as np\n",
    "import matplotlib.pyplot as plt\n",
    "import seaborn as sns"
   ]
  },
  {
   "cell_type": "code",
   "execution_count": 2,
   "metadata": {},
   "outputs": [],
   "source": [
    "con = mysql.connector.connect(\n",
    "    host = 'localhost',\n",
    "    user = 'root',\n",
    "    passwd = ''\n",
    ")"
   ]
  },
  {
   "cell_type": "code",
   "execution_count": 3,
   "metadata": {},
   "outputs": [
    {
     "data": {
      "text/plain": [
       "<mysql.connector.connection.MySQLConnection at 0x7fe171ee2350>"
      ]
     },
     "execution_count": 3,
     "metadata": {},
     "output_type": "execute_result"
    }
   ],
   "source": [
    "con  #succesfully connected"
   ]
  },
  {
   "cell_type": "code",
   "execution_count": 4,
   "metadata": {},
   "outputs": [],
   "source": [
    "c = con.cursor(buffered=True)\n",
    "query = 'show databases'\n",
    "c.execute(query)"
   ]
  },
  {
   "cell_type": "code",
   "execution_count": 5,
   "metadata": {},
   "outputs": [
    {
     "data": {
      "text/plain": [
       "[('flask_mysql',),\n",
       " ('information_schema',),\n",
       " ('invoicing',),\n",
       " ('mysql',),\n",
       " ('performance_schema',),\n",
       " ('practice',),\n",
       " ('retrowheels',),\n",
       " ('sakila',),\n",
       " ('sql_hr',),\n",
       " ('sql_inventory',),\n",
       " ('sql_invoicing',),\n",
       " ('sql_store',),\n",
       " ('store',),\n",
       " ('sys',),\n",
       " ('tips',),\n",
       " ('world',)]"
      ]
     },
     "execution_count": 5,
     "metadata": {},
     "output_type": "execute_result"
    }
   ],
   "source": [
    "c.fetchall()"
   ]
  },
  {
   "cell_type": "code",
   "execution_count": 6,
   "metadata": {},
   "outputs": [],
   "source": [
    "query = 'USE world'\n",
    "c.execute(query)\n",
    "\n",
    "query = 'SHOW tables'\n",
    "c.execute(query)"
   ]
  },
  {
   "cell_type": "code",
   "execution_count": 7,
   "metadata": {},
   "outputs": [
    {
     "data": {
      "text/plain": [
       "[('city',), ('country',), ('countrylanguage',)]"
      ]
     },
     "execution_count": 7,
     "metadata": {},
     "output_type": "execute_result"
    }
   ],
   "source": [
    "res = c.fetchall()\n",
    "res"
   ]
  },
  {
   "cell_type": "code",
   "execution_count": 21,
   "metadata": {},
   "outputs": [
    {
     "data": {
      "text/plain": [
       "[(1, 'Kabul', 'AFG', 'Kabol', 1780000),\n",
       " (2, 'Qandahar', 'AFG', 'Qandahar', 237500),\n",
       " (3, 'Herat', 'AFG', 'Herat', 186800),\n",
       " (4, 'Mazar-e-Sharif', 'AFG', 'Balkh', 127800),\n",
       " (5, 'Amsterdam', 'NLD', 'Noord-Holland', 731200)]"
      ]
     },
     "execution_count": 21,
     "metadata": {},
     "output_type": "execute_result"
    }
   ],
   "source": [
    "query = 'SELECT * FROM city'\n",
    "c.execute(query)\n",
    "\n",
    "res1 = c.fetchall()\n",
    "res1[:5]"
   ]
  },
  {
   "cell_type": "code",
   "execution_count": 18,
   "metadata": {},
   "outputs": [
    {
     "data": {
      "text/plain": [
       "[('ABW',\n",
       "  'Aruba',\n",
       "  'North America',\n",
       "  'Caribbean',\n",
       "  Decimal('193.00'),\n",
       "  None,\n",
       "  103000,\n",
       "  Decimal('78.4'),\n",
       "  Decimal('828.00'),\n",
       "  Decimal('793.00'),\n",
       "  'Aruba',\n",
       "  'Nonmetropolitan Territory of The Netherlands',\n",
       "  'Beatrix',\n",
       "  129,\n",
       "  'AW'),\n",
       " ('AFG',\n",
       "  'Afghanistan',\n",
       "  'Asia',\n",
       "  'Southern and Central Asia',\n",
       "  Decimal('652090.00'),\n",
       "  1919,\n",
       "  22720000,\n",
       "  Decimal('45.9'),\n",
       "  Decimal('5976.00'),\n",
       "  None,\n",
       "  'Afganistan/Afqanestan',\n",
       "  'Islamic Emirate',\n",
       "  'Mohammad Omar',\n",
       "  1,\n",
       "  'AF'),\n",
       " ('AGO',\n",
       "  'Angola',\n",
       "  'Africa',\n",
       "  'Central Africa',\n",
       "  Decimal('1246700.00'),\n",
       "  1975,\n",
       "  12878000,\n",
       "  Decimal('38.3'),\n",
       "  Decimal('6648.00'),\n",
       "  Decimal('7984.00'),\n",
       "  'Angola',\n",
       "  'Republic',\n",
       "  'José Eduardo dos Santos',\n",
       "  56,\n",
       "  'AO'),\n",
       " ('AIA',\n",
       "  'Anguilla',\n",
       "  'North America',\n",
       "  'Caribbean',\n",
       "  Decimal('96.00'),\n",
       "  None,\n",
       "  8000,\n",
       "  Decimal('76.1'),\n",
       "  Decimal('63.20'),\n",
       "  None,\n",
       "  'Anguilla',\n",
       "  'Dependent Territory of the UK',\n",
       "  'Elisabeth II',\n",
       "  62,\n",
       "  'AI'),\n",
       " ('ALB',\n",
       "  'Albania',\n",
       "  'Europe',\n",
       "  'Southern Europe',\n",
       "  Decimal('28748.00'),\n",
       "  1912,\n",
       "  3401200,\n",
       "  Decimal('71.6'),\n",
       "  Decimal('3205.00'),\n",
       "  Decimal('2500.00'),\n",
       "  'Shqipëria',\n",
       "  'Republic',\n",
       "  'Rexhep Mejdani',\n",
       "  34,\n",
       "  'AL')]"
      ]
     },
     "execution_count": 18,
     "metadata": {},
     "output_type": "execute_result"
    }
   ],
   "source": [
    "query = 'SELECT * FROM country'\n",
    "c.execute(query)\n",
    "\n",
    "res2 = c.fetchall()\n",
    "res2[:5]"
   ]
  },
  {
   "cell_type": "code",
   "execution_count": 54,
   "metadata": {},
   "outputs": [
    {
     "data": {
      "text/plain": [
       "[('ABW', 'Dutch', 'T', Decimal('5.3')),\n",
       " ('ABW', 'English', 'F', Decimal('9.5')),\n",
       " ('ABW', 'Papiamento', 'F', Decimal('76.7')),\n",
       " ('ABW', 'Spanish', 'F', Decimal('7.4')),\n",
       " ('AFG', 'Balochi', 'F', Decimal('0.9'))]"
      ]
     },
     "execution_count": 54,
     "metadata": {},
     "output_type": "execute_result"
    }
   ],
   "source": [
    "query = 'SELECT * FROM countryLanguage'\n",
    "c.execute(query)\n",
    "\n",
    "res3 = c.fetchall()\n",
    "res3[:5]"
   ]
  },
  {
   "cell_type": "code",
   "execution_count": 55,
   "metadata": {},
   "outputs": [
    {
     "data": {
      "text/plain": [
       "('CountryCode', 'Language', 'IsOfficial', 'Percentage')"
      ]
     },
     "execution_count": 55,
     "metadata": {},
     "output_type": "execute_result"
    }
   ],
   "source": [
    "cols = c.column_names\n",
    "cols"
   ]
  },
  {
   "cell_type": "code",
   "execution_count": 16,
   "metadata": {},
   "outputs": [
    {
     "data": {
      "text/html": [
       "<div>\n",
       "<style scoped>\n",
       "    .dataframe tbody tr th:only-of-type {\n",
       "        vertical-align: middle;\n",
       "    }\n",
       "\n",
       "    .dataframe tbody tr th {\n",
       "        vertical-align: top;\n",
       "    }\n",
       "\n",
       "    .dataframe thead th {\n",
       "        text-align: right;\n",
       "    }\n",
       "</style>\n",
       "<table border=\"1\" class=\"dataframe\">\n",
       "  <thead>\n",
       "    <tr style=\"text-align: right;\">\n",
       "      <th></th>\n",
       "      <th>Name</th>\n",
       "      <th>CountryCode</th>\n",
       "      <th>District</th>\n",
       "      <th>Population</th>\n",
       "    </tr>\n",
       "    <tr>\n",
       "      <th>ID</th>\n",
       "      <th></th>\n",
       "      <th></th>\n",
       "      <th></th>\n",
       "      <th></th>\n",
       "    </tr>\n",
       "  </thead>\n",
       "  <tbody>\n",
       "    <tr>\n",
       "      <th>1</th>\n",
       "      <td>Kabul</td>\n",
       "      <td>AFG</td>\n",
       "      <td>Kabol</td>\n",
       "      <td>1780000</td>\n",
       "    </tr>\n",
       "    <tr>\n",
       "      <th>2</th>\n",
       "      <td>Qandahar</td>\n",
       "      <td>AFG</td>\n",
       "      <td>Qandahar</td>\n",
       "      <td>237500</td>\n",
       "    </tr>\n",
       "    <tr>\n",
       "      <th>3</th>\n",
       "      <td>Herat</td>\n",
       "      <td>AFG</td>\n",
       "      <td>Herat</td>\n",
       "      <td>186800</td>\n",
       "    </tr>\n",
       "    <tr>\n",
       "      <th>4</th>\n",
       "      <td>Mazar-e-Sharif</td>\n",
       "      <td>AFG</td>\n",
       "      <td>Balkh</td>\n",
       "      <td>127800</td>\n",
       "    </tr>\n",
       "    <tr>\n",
       "      <th>5</th>\n",
       "      <td>Amsterdam</td>\n",
       "      <td>NLD</td>\n",
       "      <td>Noord-Holland</td>\n",
       "      <td>731200</td>\n",
       "    </tr>\n",
       "    <tr>\n",
       "      <th>...</th>\n",
       "      <td>...</td>\n",
       "      <td>...</td>\n",
       "      <td>...</td>\n",
       "      <td>...</td>\n",
       "    </tr>\n",
       "    <tr>\n",
       "      <th>4075</th>\n",
       "      <td>Khan Yunis</td>\n",
       "      <td>PSE</td>\n",
       "      <td>Khan Yunis</td>\n",
       "      <td>123175</td>\n",
       "    </tr>\n",
       "    <tr>\n",
       "      <th>4076</th>\n",
       "      <td>Hebron</td>\n",
       "      <td>PSE</td>\n",
       "      <td>Hebron</td>\n",
       "      <td>119401</td>\n",
       "    </tr>\n",
       "    <tr>\n",
       "      <th>4077</th>\n",
       "      <td>Jabaliya</td>\n",
       "      <td>PSE</td>\n",
       "      <td>North Gaza</td>\n",
       "      <td>113901</td>\n",
       "    </tr>\n",
       "    <tr>\n",
       "      <th>4078</th>\n",
       "      <td>Nablus</td>\n",
       "      <td>PSE</td>\n",
       "      <td>Nablus</td>\n",
       "      <td>100231</td>\n",
       "    </tr>\n",
       "    <tr>\n",
       "      <th>4079</th>\n",
       "      <td>Rafah</td>\n",
       "      <td>PSE</td>\n",
       "      <td>Rafah</td>\n",
       "      <td>92020</td>\n",
       "    </tr>\n",
       "  </tbody>\n",
       "</table>\n",
       "<p>4079 rows × 4 columns</p>\n",
       "</div>"
      ],
      "text/plain": [
       "                Name CountryCode       District  Population\n",
       "ID                                                         \n",
       "1              Kabul         AFG          Kabol     1780000\n",
       "2           Qandahar         AFG       Qandahar      237500\n",
       "3              Herat         AFG          Herat      186800\n",
       "4     Mazar-e-Sharif         AFG          Balkh      127800\n",
       "5          Amsterdam         NLD  Noord-Holland      731200\n",
       "...              ...         ...            ...         ...\n",
       "4075      Khan Yunis         PSE     Khan Yunis      123175\n",
       "4076          Hebron         PSE         Hebron      119401\n",
       "4077        Jabaliya         PSE     North Gaza      113901\n",
       "4078          Nablus         PSE         Nablus      100231\n",
       "4079           Rafah         PSE          Rafah       92020\n",
       "\n",
       "[4079 rows x 4 columns]"
      ]
     },
     "execution_count": 16,
     "metadata": {},
     "output_type": "execute_result"
    }
   ],
   "source": [
    "city_df = pd.DataFrame(res1,columns = cols)\n",
    "city_df.set_index('ID',inplace=True)\n",
    "city_df"
   ]
  },
  {
   "cell_type": "code",
   "execution_count": 17,
   "metadata": {},
   "outputs": [
    {
     "name": "stdout",
     "output_type": "stream",
     "text": [
      "<class 'pandas.core.frame.DataFrame'>\n",
      "Int64Index: 4079 entries, 1 to 4079\n",
      "Data columns (total 4 columns):\n",
      " #   Column       Non-Null Count  Dtype \n",
      "---  ------       --------------  ----- \n",
      " 0   Name         4079 non-null   object\n",
      " 1   CountryCode  4079 non-null   object\n",
      " 2   District     4079 non-null   object\n",
      " 3   Population   4079 non-null   int64 \n",
      "dtypes: int64(1), object(3)\n",
      "memory usage: 159.3+ KB\n"
     ]
    }
   ],
   "source": [
    "city_df.info()"
   ]
  },
  {
   "cell_type": "code",
   "execution_count": 42,
   "metadata": {},
   "outputs": [
    {
     "data": {
      "text/html": [
       "<div>\n",
       "<style scoped>\n",
       "    .dataframe tbody tr th:only-of-type {\n",
       "        vertical-align: middle;\n",
       "    }\n",
       "\n",
       "    .dataframe tbody tr th {\n",
       "        vertical-align: top;\n",
       "    }\n",
       "\n",
       "    .dataframe thead th {\n",
       "        text-align: right;\n",
       "    }\n",
       "</style>\n",
       "<table border=\"1\" class=\"dataframe\">\n",
       "  <thead>\n",
       "    <tr style=\"text-align: right;\">\n",
       "      <th></th>\n",
       "      <th>Name</th>\n",
       "      <th>Continent</th>\n",
       "      <th>Region</th>\n",
       "      <th>SurfaceArea</th>\n",
       "      <th>IndepYear</th>\n",
       "      <th>Population</th>\n",
       "      <th>LifeExpectancy</th>\n",
       "      <th>GNP</th>\n",
       "      <th>GNPOld</th>\n",
       "      <th>LocalName</th>\n",
       "      <th>GovernmentForm</th>\n",
       "      <th>HeadOfState</th>\n",
       "      <th>Capital</th>\n",
       "      <th>Code2</th>\n",
       "    </tr>\n",
       "    <tr>\n",
       "      <th>Code</th>\n",
       "      <th></th>\n",
       "      <th></th>\n",
       "      <th></th>\n",
       "      <th></th>\n",
       "      <th></th>\n",
       "      <th></th>\n",
       "      <th></th>\n",
       "      <th></th>\n",
       "      <th></th>\n",
       "      <th></th>\n",
       "      <th></th>\n",
       "      <th></th>\n",
       "      <th></th>\n",
       "      <th></th>\n",
       "    </tr>\n",
       "  </thead>\n",
       "  <tbody>\n",
       "    <tr>\n",
       "      <th>ABW</th>\n",
       "      <td>Aruba</td>\n",
       "      <td>North America</td>\n",
       "      <td>Caribbean</td>\n",
       "      <td>193.00</td>\n",
       "      <td>NaN</td>\n",
       "      <td>103000</td>\n",
       "      <td>78.4</td>\n",
       "      <td>828.00</td>\n",
       "      <td>793.00</td>\n",
       "      <td>Aruba</td>\n",
       "      <td>Nonmetropolitan Territory of The Netherlands</td>\n",
       "      <td>Beatrix</td>\n",
       "      <td>129.0</td>\n",
       "      <td>AW</td>\n",
       "    </tr>\n",
       "    <tr>\n",
       "      <th>AFG</th>\n",
       "      <td>Afghanistan</td>\n",
       "      <td>Asia</td>\n",
       "      <td>Southern and Central Asia</td>\n",
       "      <td>652090.00</td>\n",
       "      <td>1919.0</td>\n",
       "      <td>22720000</td>\n",
       "      <td>45.9</td>\n",
       "      <td>5976.00</td>\n",
       "      <td>None</td>\n",
       "      <td>Afganistan/Afqanestan</td>\n",
       "      <td>Islamic Emirate</td>\n",
       "      <td>Mohammad Omar</td>\n",
       "      <td>1.0</td>\n",
       "      <td>AF</td>\n",
       "    </tr>\n",
       "    <tr>\n",
       "      <th>AGO</th>\n",
       "      <td>Angola</td>\n",
       "      <td>Africa</td>\n",
       "      <td>Central Africa</td>\n",
       "      <td>1246700.00</td>\n",
       "      <td>1975.0</td>\n",
       "      <td>12878000</td>\n",
       "      <td>38.3</td>\n",
       "      <td>6648.00</td>\n",
       "      <td>7984.00</td>\n",
       "      <td>Angola</td>\n",
       "      <td>Republic</td>\n",
       "      <td>José Eduardo dos Santos</td>\n",
       "      <td>56.0</td>\n",
       "      <td>AO</td>\n",
       "    </tr>\n",
       "    <tr>\n",
       "      <th>AIA</th>\n",
       "      <td>Anguilla</td>\n",
       "      <td>North America</td>\n",
       "      <td>Caribbean</td>\n",
       "      <td>96.00</td>\n",
       "      <td>NaN</td>\n",
       "      <td>8000</td>\n",
       "      <td>76.1</td>\n",
       "      <td>63.20</td>\n",
       "      <td>None</td>\n",
       "      <td>Anguilla</td>\n",
       "      <td>Dependent Territory of the UK</td>\n",
       "      <td>Elisabeth II</td>\n",
       "      <td>62.0</td>\n",
       "      <td>AI</td>\n",
       "    </tr>\n",
       "    <tr>\n",
       "      <th>ALB</th>\n",
       "      <td>Albania</td>\n",
       "      <td>Europe</td>\n",
       "      <td>Southern Europe</td>\n",
       "      <td>28748.00</td>\n",
       "      <td>1912.0</td>\n",
       "      <td>3401200</td>\n",
       "      <td>71.6</td>\n",
       "      <td>3205.00</td>\n",
       "      <td>2500.00</td>\n",
       "      <td>Shqipëria</td>\n",
       "      <td>Republic</td>\n",
       "      <td>Rexhep Mejdani</td>\n",
       "      <td>34.0</td>\n",
       "      <td>AL</td>\n",
       "    </tr>\n",
       "    <tr>\n",
       "      <th>...</th>\n",
       "      <td>...</td>\n",
       "      <td>...</td>\n",
       "      <td>...</td>\n",
       "      <td>...</td>\n",
       "      <td>...</td>\n",
       "      <td>...</td>\n",
       "      <td>...</td>\n",
       "      <td>...</td>\n",
       "      <td>...</td>\n",
       "      <td>...</td>\n",
       "      <td>...</td>\n",
       "      <td>...</td>\n",
       "      <td>...</td>\n",
       "      <td>...</td>\n",
       "    </tr>\n",
       "    <tr>\n",
       "      <th>YEM</th>\n",
       "      <td>Yemen</td>\n",
       "      <td>Asia</td>\n",
       "      <td>Middle East</td>\n",
       "      <td>527968.00</td>\n",
       "      <td>1918.0</td>\n",
       "      <td>18112000</td>\n",
       "      <td>59.8</td>\n",
       "      <td>6041.00</td>\n",
       "      <td>5729.00</td>\n",
       "      <td>Al-Yaman</td>\n",
       "      <td>Republic</td>\n",
       "      <td>Ali Abdallah Salih</td>\n",
       "      <td>1780.0</td>\n",
       "      <td>YE</td>\n",
       "    </tr>\n",
       "    <tr>\n",
       "      <th>YUG</th>\n",
       "      <td>Yugoslavia</td>\n",
       "      <td>Europe</td>\n",
       "      <td>Southern Europe</td>\n",
       "      <td>102173.00</td>\n",
       "      <td>1918.0</td>\n",
       "      <td>10640000</td>\n",
       "      <td>72.4</td>\n",
       "      <td>17000.00</td>\n",
       "      <td>None</td>\n",
       "      <td>Jugoslavija</td>\n",
       "      <td>Federal Republic</td>\n",
       "      <td>Vojislav Koštunica</td>\n",
       "      <td>1792.0</td>\n",
       "      <td>YU</td>\n",
       "    </tr>\n",
       "    <tr>\n",
       "      <th>ZAF</th>\n",
       "      <td>South Africa</td>\n",
       "      <td>Africa</td>\n",
       "      <td>Southern Africa</td>\n",
       "      <td>1221037.00</td>\n",
       "      <td>1910.0</td>\n",
       "      <td>40377000</td>\n",
       "      <td>51.1</td>\n",
       "      <td>116729.00</td>\n",
       "      <td>129092.00</td>\n",
       "      <td>South Africa</td>\n",
       "      <td>Republic</td>\n",
       "      <td>Thabo Mbeki</td>\n",
       "      <td>716.0</td>\n",
       "      <td>ZA</td>\n",
       "    </tr>\n",
       "    <tr>\n",
       "      <th>ZMB</th>\n",
       "      <td>Zambia</td>\n",
       "      <td>Africa</td>\n",
       "      <td>Eastern Africa</td>\n",
       "      <td>752618.00</td>\n",
       "      <td>1964.0</td>\n",
       "      <td>9169000</td>\n",
       "      <td>37.2</td>\n",
       "      <td>3377.00</td>\n",
       "      <td>3922.00</td>\n",
       "      <td>Zambia</td>\n",
       "      <td>Republic</td>\n",
       "      <td>Frederick Chiluba</td>\n",
       "      <td>3162.0</td>\n",
       "      <td>ZM</td>\n",
       "    </tr>\n",
       "    <tr>\n",
       "      <th>ZWE</th>\n",
       "      <td>Zimbabwe</td>\n",
       "      <td>Africa</td>\n",
       "      <td>Eastern Africa</td>\n",
       "      <td>390757.00</td>\n",
       "      <td>1980.0</td>\n",
       "      <td>11669000</td>\n",
       "      <td>37.8</td>\n",
       "      <td>5951.00</td>\n",
       "      <td>8670.00</td>\n",
       "      <td>Zimbabwe</td>\n",
       "      <td>Republic</td>\n",
       "      <td>Robert G. Mugabe</td>\n",
       "      <td>4068.0</td>\n",
       "      <td>ZW</td>\n",
       "    </tr>\n",
       "  </tbody>\n",
       "</table>\n",
       "<p>239 rows × 14 columns</p>\n",
       "</div>"
      ],
      "text/plain": [
       "              Name      Continent                     Region SurfaceArea  \\\n",
       "Code                                                                       \n",
       "ABW          Aruba  North America                  Caribbean      193.00   \n",
       "AFG    Afghanistan           Asia  Southern and Central Asia   652090.00   \n",
       "AGO         Angola         Africa             Central Africa  1246700.00   \n",
       "AIA       Anguilla  North America                  Caribbean       96.00   \n",
       "ALB        Albania         Europe            Southern Europe    28748.00   \n",
       "...            ...            ...                        ...         ...   \n",
       "YEM          Yemen           Asia                Middle East   527968.00   \n",
       "YUG     Yugoslavia         Europe            Southern Europe   102173.00   \n",
       "ZAF   South Africa         Africa            Southern Africa  1221037.00   \n",
       "ZMB         Zambia         Africa             Eastern Africa   752618.00   \n",
       "ZWE       Zimbabwe         Africa             Eastern Africa   390757.00   \n",
       "\n",
       "      IndepYear  Population LifeExpectancy        GNP     GNPOld  \\\n",
       "Code                                                               \n",
       "ABW         NaN      103000           78.4     828.00     793.00   \n",
       "AFG      1919.0    22720000           45.9    5976.00       None   \n",
       "AGO      1975.0    12878000           38.3    6648.00    7984.00   \n",
       "AIA         NaN        8000           76.1      63.20       None   \n",
       "ALB      1912.0     3401200           71.6    3205.00    2500.00   \n",
       "...         ...         ...            ...        ...        ...   \n",
       "YEM      1918.0    18112000           59.8    6041.00    5729.00   \n",
       "YUG      1918.0    10640000           72.4   17000.00       None   \n",
       "ZAF      1910.0    40377000           51.1  116729.00  129092.00   \n",
       "ZMB      1964.0     9169000           37.2    3377.00    3922.00   \n",
       "ZWE      1980.0    11669000           37.8    5951.00    8670.00   \n",
       "\n",
       "                  LocalName                                GovernmentForm  \\\n",
       "Code                                                                        \n",
       "ABW                   Aruba  Nonmetropolitan Territory of The Netherlands   \n",
       "AFG   Afganistan/Afqanestan                               Islamic Emirate   \n",
       "AGO                  Angola                                      Republic   \n",
       "AIA                Anguilla                 Dependent Territory of the UK   \n",
       "ALB               Shqipëria                                      Republic   \n",
       "...                     ...                                           ...   \n",
       "YEM                Al-Yaman                                      Republic   \n",
       "YUG             Jugoslavija                              Federal Republic   \n",
       "ZAF            South Africa                                      Republic   \n",
       "ZMB                  Zambia                                      Republic   \n",
       "ZWE                Zimbabwe                                      Republic   \n",
       "\n",
       "                  HeadOfState  Capital Code2  \n",
       "Code                                          \n",
       "ABW                   Beatrix    129.0    AW  \n",
       "AFG             Mohammad Omar      1.0    AF  \n",
       "AGO   José Eduardo dos Santos     56.0    AO  \n",
       "AIA              Elisabeth II     62.0    AI  \n",
       "ALB            Rexhep Mejdani     34.0    AL  \n",
       "...                       ...      ...   ...  \n",
       "YEM        Ali Abdallah Salih   1780.0    YE  \n",
       "YUG        Vojislav Koštunica   1792.0    YU  \n",
       "ZAF               Thabo Mbeki    716.0    ZA  \n",
       "ZMB         Frederick Chiluba   3162.0    ZM  \n",
       "ZWE          Robert G. Mugabe   4068.0    ZW  \n",
       "\n",
       "[239 rows x 14 columns]"
      ]
     },
     "execution_count": 42,
     "metadata": {},
     "output_type": "execute_result"
    }
   ],
   "source": [
    "country_df = pd.DataFrame(res2,columns = cols)\n",
    "country_df.set_index('Code',inplace=True)\n",
    "country_df"
   ]
  },
  {
   "cell_type": "code",
   "execution_count": 43,
   "metadata": {},
   "outputs": [
    {
     "name": "stdout",
     "output_type": "stream",
     "text": [
      "<class 'pandas.core.frame.DataFrame'>\n",
      "Index: 239 entries, ABW to ZWE\n",
      "Data columns (total 14 columns):\n",
      " #   Column          Non-Null Count  Dtype  \n",
      "---  ------          --------------  -----  \n",
      " 0   Name            239 non-null    object \n",
      " 1   Continent       239 non-null    object \n",
      " 2   Region          239 non-null    object \n",
      " 3   SurfaceArea     239 non-null    object \n",
      " 4   IndepYear       192 non-null    float64\n",
      " 5   Population      239 non-null    int64  \n",
      " 6   LifeExpectancy  222 non-null    object \n",
      " 7   GNP             239 non-null    object \n",
      " 8   GNPOld          178 non-null    object \n",
      " 9   LocalName       239 non-null    object \n",
      " 10  GovernmentForm  239 non-null    object \n",
      " 11  HeadOfState     238 non-null    object \n",
      " 12  Capital         232 non-null    float64\n",
      " 13  Code2           239 non-null    object \n",
      "dtypes: float64(2), int64(1), object(11)\n",
      "memory usage: 28.0+ KB\n"
     ]
    }
   ],
   "source": [
    "europe['GNP']= europe['GNP'].astype(float)\n",
    "europe['LifeExpectancy'] = europe['LifeExpectancy'].astype(float)\n",
    "country_df.info()"
   ]
  },
  {
   "cell_type": "code",
   "execution_count": 65,
   "metadata": {},
   "outputs": [
    {
     "data": {
      "text/html": [
       "<div>\n",
       "<style scoped>\n",
       "    .dataframe tbody tr th:only-of-type {\n",
       "        vertical-align: middle;\n",
       "    }\n",
       "\n",
       "    .dataframe tbody tr th {\n",
       "        vertical-align: top;\n",
       "    }\n",
       "\n",
       "    .dataframe thead th {\n",
       "        text-align: right;\n",
       "    }\n",
       "</style>\n",
       "<table border=\"1\" class=\"dataframe\">\n",
       "  <thead>\n",
       "    <tr style=\"text-align: right;\">\n",
       "      <th></th>\n",
       "      <th>CountryCode</th>\n",
       "      <th>Language</th>\n",
       "      <th>IsOfficial</th>\n",
       "      <th>Percentage</th>\n",
       "    </tr>\n",
       "  </thead>\n",
       "  <tbody>\n",
       "    <tr>\n",
       "      <th>0</th>\n",
       "      <td>ABW</td>\n",
       "      <td>Dutch</td>\n",
       "      <td>T</td>\n",
       "      <td>5.3</td>\n",
       "    </tr>\n",
       "    <tr>\n",
       "      <th>1</th>\n",
       "      <td>ABW</td>\n",
       "      <td>English</td>\n",
       "      <td>F</td>\n",
       "      <td>9.5</td>\n",
       "    </tr>\n",
       "    <tr>\n",
       "      <th>2</th>\n",
       "      <td>ABW</td>\n",
       "      <td>Papiamento</td>\n",
       "      <td>F</td>\n",
       "      <td>76.7</td>\n",
       "    </tr>\n",
       "    <tr>\n",
       "      <th>3</th>\n",
       "      <td>ABW</td>\n",
       "      <td>Spanish</td>\n",
       "      <td>F</td>\n",
       "      <td>7.4</td>\n",
       "    </tr>\n",
       "    <tr>\n",
       "      <th>4</th>\n",
       "      <td>AFG</td>\n",
       "      <td>Balochi</td>\n",
       "      <td>F</td>\n",
       "      <td>0.9</td>\n",
       "    </tr>\n",
       "    <tr>\n",
       "      <th>...</th>\n",
       "      <td>...</td>\n",
       "      <td>...</td>\n",
       "      <td>...</td>\n",
       "      <td>...</td>\n",
       "    </tr>\n",
       "    <tr>\n",
       "      <th>979</th>\n",
       "      <td>ZMB</td>\n",
       "      <td>Tongan</td>\n",
       "      <td>F</td>\n",
       "      <td>11.0</td>\n",
       "    </tr>\n",
       "    <tr>\n",
       "      <th>980</th>\n",
       "      <td>ZWE</td>\n",
       "      <td>English</td>\n",
       "      <td>T</td>\n",
       "      <td>2.2</td>\n",
       "    </tr>\n",
       "    <tr>\n",
       "      <th>981</th>\n",
       "      <td>ZWE</td>\n",
       "      <td>Ndebele</td>\n",
       "      <td>F</td>\n",
       "      <td>16.2</td>\n",
       "    </tr>\n",
       "    <tr>\n",
       "      <th>982</th>\n",
       "      <td>ZWE</td>\n",
       "      <td>Nyanja</td>\n",
       "      <td>F</td>\n",
       "      <td>2.2</td>\n",
       "    </tr>\n",
       "    <tr>\n",
       "      <th>983</th>\n",
       "      <td>ZWE</td>\n",
       "      <td>Shona</td>\n",
       "      <td>F</td>\n",
       "      <td>72.1</td>\n",
       "    </tr>\n",
       "  </tbody>\n",
       "</table>\n",
       "<p>984 rows × 4 columns</p>\n",
       "</div>"
      ],
      "text/plain": [
       "    CountryCode    Language IsOfficial Percentage\n",
       "0           ABW       Dutch          T        5.3\n",
       "1           ABW     English          F        9.5\n",
       "2           ABW  Papiamento          F       76.7\n",
       "3           ABW     Spanish          F        7.4\n",
       "4           AFG     Balochi          F        0.9\n",
       "..          ...         ...        ...        ...\n",
       "979         ZMB      Tongan          F       11.0\n",
       "980         ZWE     English          T        2.2\n",
       "981         ZWE     Ndebele          F       16.2\n",
       "982         ZWE      Nyanja          F        2.2\n",
       "983         ZWE       Shona          F       72.1\n",
       "\n",
       "[984 rows x 4 columns]"
      ]
     },
     "execution_count": 65,
     "metadata": {},
     "output_type": "execute_result"
    }
   ],
   "source": [
    "language_df = pd.DataFrame(res3,columns = cols)\n",
    "language_df"
   ]
  },
  {
   "cell_type": "code",
   "execution_count": 66,
   "metadata": {},
   "outputs": [
    {
     "name": "stdout",
     "output_type": "stream",
     "text": [
      "<class 'pandas.core.frame.DataFrame'>\n",
      "RangeIndex: 984 entries, 0 to 983\n",
      "Data columns (total 4 columns):\n",
      " #   Column       Non-Null Count  Dtype \n",
      "---  ------       --------------  ----- \n",
      " 0   CountryCode  984 non-null    object\n",
      " 1   Language     984 non-null    object\n",
      " 2   IsOfficial   984 non-null    object\n",
      " 3   Percentage   984 non-null    object\n",
      "dtypes: object(4)\n",
      "memory usage: 30.9+ KB\n"
     ]
    }
   ],
   "source": [
    "language_df.info()\n"
   ]
  },
  {
   "cell_type": "code",
   "execution_count": 78,
   "metadata": {},
   "outputs": [
    {
     "data": {
      "text/html": [
       "<div>\n",
       "<style scoped>\n",
       "    .dataframe tbody tr th:only-of-type {\n",
       "        vertical-align: middle;\n",
       "    }\n",
       "\n",
       "    .dataframe tbody tr th {\n",
       "        vertical-align: top;\n",
       "    }\n",
       "\n",
       "    .dataframe thead th {\n",
       "        text-align: right;\n",
       "    }\n",
       "</style>\n",
       "<table border=\"1\" class=\"dataframe\">\n",
       "  <thead>\n",
       "    <tr style=\"text-align: right;\">\n",
       "      <th></th>\n",
       "      <th>Population</th>\n",
       "    </tr>\n",
       "    <tr>\n",
       "      <th>CountryCode</th>\n",
       "      <th></th>\n",
       "    </tr>\n",
       "  </thead>\n",
       "  <tbody>\n",
       "    <tr>\n",
       "      <th>CHN</th>\n",
       "      <td>175953614</td>\n",
       "    </tr>\n",
       "    <tr>\n",
       "      <th>IND</th>\n",
       "      <td>123298526</td>\n",
       "    </tr>\n",
       "    <tr>\n",
       "      <th>BRA</th>\n",
       "      <td>85876862</td>\n",
       "    </tr>\n",
       "    <tr>\n",
       "      <th>USA</th>\n",
       "      <td>78625774</td>\n",
       "    </tr>\n",
       "    <tr>\n",
       "      <th>JPN</th>\n",
       "      <td>77965107</td>\n",
       "    </tr>\n",
       "    <tr>\n",
       "      <th>RUS</th>\n",
       "      <td>69150700</td>\n",
       "    </tr>\n",
       "    <tr>\n",
       "      <th>MEX</th>\n",
       "      <td>59752521</td>\n",
       "    </tr>\n",
       "    <tr>\n",
       "      <th>KOR</th>\n",
       "      <td>38999893</td>\n",
       "    </tr>\n",
       "    <tr>\n",
       "      <th>IDN</th>\n",
       "      <td>37485695</td>\n",
       "    </tr>\n",
       "    <tr>\n",
       "      <th>PAK</th>\n",
       "      <td>31546745</td>\n",
       "    </tr>\n",
       "  </tbody>\n",
       "</table>\n",
       "</div>"
      ],
      "text/plain": [
       "             Population\n",
       "CountryCode            \n",
       "CHN           175953614\n",
       "IND           123298526\n",
       "BRA            85876862\n",
       "USA            78625774\n",
       "JPN            77965107\n",
       "RUS            69150700\n",
       "MEX            59752521\n",
       "KOR            38999893\n",
       "IDN            37485695\n",
       "PAK            31546745"
      ]
     },
     "execution_count": 78,
     "metadata": {},
     "output_type": "execute_result"
    }
   ],
   "source": [
    "country_CountryCode = city_df.groupby('CountryCode')\n",
    "country_CountryCode[['CountryCode', 'Population']].sum().sort_values('Population',ascending=False).head(10)"
   ]
  },
  {
   "cell_type": "code",
   "execution_count": 79,
   "metadata": {},
   "outputs": [
    {
     "data": {
      "text/html": [
       "<div>\n",
       "<style scoped>\n",
       "    .dataframe tbody tr th:only-of-type {\n",
       "        vertical-align: middle;\n",
       "    }\n",
       "\n",
       "    .dataframe tbody tr th {\n",
       "        vertical-align: top;\n",
       "    }\n",
       "\n",
       "    .dataframe thead th {\n",
       "        text-align: right;\n",
       "    }\n",
       "</style>\n",
       "<table border=\"1\" class=\"dataframe\">\n",
       "  <thead>\n",
       "    <tr style=\"text-align: right;\">\n",
       "      <th></th>\n",
       "      <th>Population</th>\n",
       "    </tr>\n",
       "    <tr>\n",
       "      <th>Continent</th>\n",
       "      <th></th>\n",
       "    </tr>\n",
       "  </thead>\n",
       "  <tbody>\n",
       "    <tr>\n",
       "      <th>Asia</th>\n",
       "      <td>3705025700</td>\n",
       "    </tr>\n",
       "    <tr>\n",
       "      <th>Africa</th>\n",
       "      <td>784475000</td>\n",
       "    </tr>\n",
       "    <tr>\n",
       "      <th>Europe</th>\n",
       "      <td>730074600</td>\n",
       "    </tr>\n",
       "    <tr>\n",
       "      <th>North America</th>\n",
       "      <td>482993000</td>\n",
       "    </tr>\n",
       "    <tr>\n",
       "      <th>South America</th>\n",
       "      <td>345780000</td>\n",
       "    </tr>\n",
       "    <tr>\n",
       "      <th>Oceania</th>\n",
       "      <td>30401150</td>\n",
       "    </tr>\n",
       "    <tr>\n",
       "      <th>Antarctica</th>\n",
       "      <td>0</td>\n",
       "    </tr>\n",
       "  </tbody>\n",
       "</table>\n",
       "</div>"
      ],
      "text/plain": [
       "               Population\n",
       "Continent                \n",
       "Asia           3705025700\n",
       "Africa          784475000\n",
       "Europe          730074600\n",
       "North America   482993000\n",
       "South America   345780000\n",
       "Oceania          30401150\n",
       "Antarctica              0"
      ]
     },
     "execution_count": 79,
     "metadata": {},
     "output_type": "execute_result"
    }
   ],
   "source": [
    "country_continent = country_df.groupby('Continent')\n",
    "country_continent[['Continent', 'Population']].sum().sort_values('Population',ascending=False).head(10)"
   ]
  },
  {
   "cell_type": "code",
   "execution_count": 87,
   "metadata": {},
   "outputs": [
    {
     "data": {
      "text/html": [
       "<div>\n",
       "<style scoped>\n",
       "    .dataframe tbody tr th:only-of-type {\n",
       "        vertical-align: middle;\n",
       "    }\n",
       "\n",
       "    .dataframe tbody tr th {\n",
       "        vertical-align: top;\n",
       "    }\n",
       "\n",
       "    .dataframe thead th {\n",
       "        text-align: right;\n",
       "    }\n",
       "</style>\n",
       "<table border=\"1\" class=\"dataframe\">\n",
       "  <thead>\n",
       "    <tr style=\"text-align: right;\">\n",
       "      <th></th>\n",
       "      <th>Name</th>\n",
       "    </tr>\n",
       "    <tr>\n",
       "      <th>GovernmentForm</th>\n",
       "      <th></th>\n",
       "    </tr>\n",
       "  </thead>\n",
       "  <tbody>\n",
       "    <tr>\n",
       "      <th>Republic</th>\n",
       "      <td>122</td>\n",
       "    </tr>\n",
       "    <tr>\n",
       "      <th>Constitutional Monarchy</th>\n",
       "      <td>29</td>\n",
       "    </tr>\n",
       "    <tr>\n",
       "      <th>Federal Republic</th>\n",
       "      <td>15</td>\n",
       "    </tr>\n",
       "    <tr>\n",
       "      <th>Dependent Territory of the UK</th>\n",
       "      <td>12</td>\n",
       "    </tr>\n",
       "    <tr>\n",
       "      <th>Monarchy</th>\n",
       "      <td>5</td>\n",
       "    </tr>\n",
       "    <tr>\n",
       "      <th>Overseas Department of France</th>\n",
       "      <td>4</td>\n",
       "    </tr>\n",
       "    <tr>\n",
       "      <th>Territory of Australia</th>\n",
       "      <td>4</td>\n",
       "    </tr>\n",
       "    <tr>\n",
       "      <th>Nonmetropolitan Territory of France</th>\n",
       "      <td>4</td>\n",
       "    </tr>\n",
       "    <tr>\n",
       "      <th>Constitutional Monarchy, Federation</th>\n",
       "      <td>4</td>\n",
       "    </tr>\n",
       "    <tr>\n",
       "      <th>Nonmetropolitan Territory of New Zealand</th>\n",
       "      <td>3</td>\n",
       "    </tr>\n",
       "  </tbody>\n",
       "</table>\n",
       "</div>"
      ],
      "text/plain": [
       "                                          Name\n",
       "GovernmentForm                                \n",
       "Republic                                   122\n",
       "Constitutional Monarchy                     29\n",
       "Federal Republic                            15\n",
       "Dependent Territory of the UK               12\n",
       "Monarchy                                     5\n",
       "Overseas Department of France                4\n",
       "Territory of Australia                       4\n",
       "Nonmetropolitan Territory of France          4\n",
       "Constitutional Monarchy, Federation          4\n",
       "Nonmetropolitan Territory of New Zealand     3"
      ]
     },
     "execution_count": 87,
     "metadata": {},
     "output_type": "execute_result"
    }
   ],
   "source": [
    "country_gov = country_df.groupby('GovernmentForm')\n",
    "country_gov[['Name']].count().sort_values('Name',ascending=False).head(10)"
   ]
  },
  {
   "cell_type": "code",
   "execution_count": 72,
   "metadata": {},
   "outputs": [
    {
     "data": {
      "text/html": [
       "<div>\n",
       "<style scoped>\n",
       "    .dataframe tbody tr th:only-of-type {\n",
       "        vertical-align: middle;\n",
       "    }\n",
       "\n",
       "    .dataframe tbody tr th {\n",
       "        vertical-align: top;\n",
       "    }\n",
       "\n",
       "    .dataframe thead th {\n",
       "        text-align: right;\n",
       "    }\n",
       "</style>\n",
       "<table border=\"1\" class=\"dataframe\">\n",
       "  <thead>\n",
       "    <tr style=\"text-align: right;\">\n",
       "      <th></th>\n",
       "      <th>CountryCode</th>\n",
       "    </tr>\n",
       "    <tr>\n",
       "      <th>Language</th>\n",
       "      <th></th>\n",
       "    </tr>\n",
       "  </thead>\n",
       "  <tbody>\n",
       "    <tr>\n",
       "      <th>English</th>\n",
       "      <td>60</td>\n",
       "    </tr>\n",
       "    <tr>\n",
       "      <th>Arabic</th>\n",
       "      <td>33</td>\n",
       "    </tr>\n",
       "    <tr>\n",
       "      <th>Spanish</th>\n",
       "      <td>28</td>\n",
       "    </tr>\n",
       "    <tr>\n",
       "      <th>French</th>\n",
       "      <td>25</td>\n",
       "    </tr>\n",
       "    <tr>\n",
       "      <th>Chinese</th>\n",
       "      <td>19</td>\n",
       "    </tr>\n",
       "    <tr>\n",
       "      <th>German</th>\n",
       "      <td>19</td>\n",
       "    </tr>\n",
       "    <tr>\n",
       "      <th>Russian</th>\n",
       "      <td>17</td>\n",
       "    </tr>\n",
       "    <tr>\n",
       "      <th>Italian</th>\n",
       "      <td>15</td>\n",
       "    </tr>\n",
       "    <tr>\n",
       "      <th>Creole English</th>\n",
       "      <td>14</td>\n",
       "    </tr>\n",
       "    <tr>\n",
       "      <th>Ful</th>\n",
       "      <td>12</td>\n",
       "    </tr>\n",
       "  </tbody>\n",
       "</table>\n",
       "</div>"
      ],
      "text/plain": [
       "                CountryCode\n",
       "Language                   \n",
       "English                  60\n",
       "Arabic                   33\n",
       "Spanish                  28\n",
       "French                   25\n",
       "Chinese                  19\n",
       "German                   19\n",
       "Russian                  17\n",
       "Italian                  15\n",
       "Creole English           14\n",
       "Ful                      12"
      ]
     },
     "execution_count": 72,
     "metadata": {},
     "output_type": "execute_result"
    }
   ],
   "source": [
    "count_lang = language_df.groupby('Language')\n",
    "count_lang[['CountryCode']].count().sort_values('CountryCode',ascending=False).head(10)"
   ]
  },
  {
   "cell_type": "code",
   "execution_count": 45,
   "metadata": {},
   "outputs": [
    {
     "data": {
      "text/html": [
       "<div>\n",
       "<style scoped>\n",
       "    .dataframe tbody tr th:only-of-type {\n",
       "        vertical-align: middle;\n",
       "    }\n",
       "\n",
       "    .dataframe tbody tr th {\n",
       "        vertical-align: top;\n",
       "    }\n",
       "\n",
       "    .dataframe thead th {\n",
       "        text-align: right;\n",
       "    }\n",
       "</style>\n",
       "<table border=\"1\" class=\"dataframe\">\n",
       "  <thead>\n",
       "    <tr style=\"text-align: right;\">\n",
       "      <th></th>\n",
       "      <th>feature</th>\n",
       "      <th>missing_value</th>\n",
       "      <th>percentage</th>\n",
       "    </tr>\n",
       "  </thead>\n",
       "  <tbody>\n",
       "    <tr>\n",
       "      <th>0</th>\n",
       "      <td>GNPOld</td>\n",
       "      <td>61</td>\n",
       "      <td>25.52</td>\n",
       "    </tr>\n",
       "    <tr>\n",
       "      <th>1</th>\n",
       "      <td>IndepYear</td>\n",
       "      <td>47</td>\n",
       "      <td>19.67</td>\n",
       "    </tr>\n",
       "    <tr>\n",
       "      <th>2</th>\n",
       "      <td>LifeExpectancy</td>\n",
       "      <td>17</td>\n",
       "      <td>7.11</td>\n",
       "    </tr>\n",
       "    <tr>\n",
       "      <th>3</th>\n",
       "      <td>Capital</td>\n",
       "      <td>7</td>\n",
       "      <td>2.93</td>\n",
       "    </tr>\n",
       "    <tr>\n",
       "      <th>4</th>\n",
       "      <td>HeadOfState</td>\n",
       "      <td>1</td>\n",
       "      <td>0.42</td>\n",
       "    </tr>\n",
       "  </tbody>\n",
       "</table>\n",
       "</div>"
      ],
      "text/plain": [
       "          feature  missing_value  percentage\n",
       "0          GNPOld             61       25.52\n",
       "1       IndepYear             47       19.67\n",
       "2  LifeExpectancy             17        7.11\n",
       "3         Capital              7        2.93\n",
       "4     HeadOfState              1        0.42"
      ]
     },
     "execution_count": 45,
     "metadata": {},
     "output_type": "execute_result"
    }
   ],
   "source": [
    "data_missing_value = country_df.isnull().sum().reset_index()\n",
    "data_missing_value.columns = ['feature','missing_value']\n",
    "data_missing_value['percentage'] = round((data_missing_value['missing_value']/len(country_df))*100,2)\n",
    "data_missing_value = data_missing_value.sort_values('percentage', ascending=False).reset_index(drop=True)\n",
    "data_missing_value = data_missing_value[data_missing_value['percentage']>0]\n",
    "data_missing_value\n"
   ]
  },
  {
   "cell_type": "markdown",
   "metadata": {},
   "source": [
    "## __visualization__"
   ]
  },
  {
   "cell_type": "code",
   "execution_count": 133,
   "metadata": {},
   "outputs": [
    {
     "data": {
      "text/plain": [
       "Text(0.5, 0, '')"
      ]
     },
     "execution_count": 133,
     "metadata": {},
     "output_type": "execute_result"
    },
    {
     "data": {
      "image/png": "[encoded data removed]",
      "text/plain": [
       "<Figure size 720x576 with 1 Axes>"
      ]
     },
     "metadata": {
      "needs_background": "light"
     },
     "output_type": "display_data"
    }
   ],
   "source": [
    "gnp = np.array(country_df['GNP'])\n",
    "le= np.array(country_df['LifeExpectancy'])\n",
    "cap = np.array(country_df['Capital'])\n",
    "pop = np.array(city_df['Population'])\n",
    "\n",
    "plt.figure(figsize = (10,8))\n",
    "plt.scatter(y=le, x=cap, alpha = 0.75, edgecolors='white')\n",
    "plt.xlabel('')"
   ]
  },
  {
   "cell_type": "code",
   "execution_count": null,
   "metadata": {},
   "outputs": [],
   "source": [
    "plt.figure(figsize = (10,8))\n",
    "plt.scatter(y=le, x=cap, alpha = 0.75, edgecolors='white')"
   ]
  },
  {
   "cell_type": "code",
   "execution_count": 47,
   "metadata": {},
   "outputs": [
    {
     "data": {
      "text/plain": [
       "['IndepYear', 'Population', 'Capital']"
      ]
     },
     "execution_count": 47,
     "metadata": {},
     "output_type": "execute_result"
    }
   ],
   "source": [
    "num_feat = list(country_df.select_dtypes(include=['int','float']).columns)\n",
    "num_feat\n",
    "# sns.heatmap(num_feat)"
   ]
  },
  {
   "cell_type": "code",
   "execution_count": 91,
   "metadata": {},
   "outputs": [],
   "source": [
    "asia = country_df[country_df['Continent'] == 'Asia']\n",
    "europe = country_df[country_df['Continent'] == 'Europe']"
   ]
  },
  {
   "cell_type": "code",
   "execution_count": 50,
   "metadata": {},
   "outputs": [
    {
     "data": {
      "text/plain": [
       "count       51\n",
       "unique      49\n",
       "top       71.8\n",
       "freq         2\n",
       "Name: LifeExpectancy, dtype: object"
      ]
     },
     "execution_count": 50,
     "metadata": {},
     "output_type": "execute_result"
    }
   ],
   "source": [
    "asia.LifeExpectancy.describe()"
   ]
  },
  {
   "cell_type": "code",
   "execution_count": 115,
   "metadata": {},
   "outputs": [
    {
     "data": {
      "text/plain": [
       "<matplotlib.axes._subplots.AxesSubplot at 0x7fe12346f690>"
      ]
     },
     "execution_count": 115,
     "metadata": {},
     "output_type": "execute_result"
    },
    {
     "data": {
      "image/png": "[encoded data removed]",
      "text/plain": [
       "<Figure size 720x432 with 1 Axes>"
      ]
     },
     "metadata": {
      "needs_background": "light"
     },
     "output_type": "display_data"
    }
   ],
   "source": [
    "plt.figure(figsize=(10,6))\n",
    "sns.histplot(asia['LifeExpectancy'],binwidth=5, kde=True)"
   ]
  },
  {
   "cell_type": "code",
   "execution_count": 112,
   "metadata": {},
   "outputs": [
    {
     "data": {
      "text/plain": [
       "<matplotlib.axes._subplots.AxesSubplot at 0x7fe12475e550>"
      ]
     },
     "execution_count": 112,
     "metadata": {},
     "output_type": "execute_result"
    },
    {
     "data": {
      "image/png": "[encoded data removed]",
      "text/plain": [
       "<Figure size 432x288 with 1 Axes>"
      ]
     },
     "metadata": {
      "needs_background": "light"
     },
     "output_type": "display_data"
    }
   ],
   "source": [
    "sns.barplot(x = 'LifeExpectancy',y = 'Name',data=europe.sort_values('LifeExpectancy',ascending=False).head(10), orient=\"h\")"
   ]
  },
  {
   "cell_type": "code",
   "execution_count": 114,
   "metadata": {},
   "outputs": [
    {
     "data": {
      "text/plain": [
       "<matplotlib.axes._subplots.AxesSubplot at 0x7fe12393b550>"
      ]
     },
     "execution_count": 114,
     "metadata": {},
     "output_type": "execute_result"
    },
    {
     "data": {
      "image/png": "[encoded data removed]",
      "text/plain": [
       "<Figure size 432x288 with 1 Axes>"
      ]
     },
     "metadata": {
      "needs_background": "light"
     },
     "output_type": "display_data"
    }
   ],
   "source": [
    "sns.barplot(x = 'LifeExpectancy',y = 'Name',data=asia.sort_values('LifeExpectancy',ascending=True).head(10), orient=\"h\")"
   ]
  },
  {
   "cell_type": "code",
   "execution_count": 153,
   "metadata": {},
   "outputs": [
    {
     "data": {
      "image/png": "[encoded data removed]",
      "text/plain": [
       "<Figure size 720x432 with 2 Axes>"
      ]
     },
     "metadata": {
      "needs_background": "light"
     },
     "output_type": "display_data"
    }
   ],
   "source": [
    "plt.figure(figsize=(10,6))\n",
    "plt.subplot(121)\n",
    "sns.boxplot(data=le,  notch=True, palette='flare', saturation=0.4, width=0.25)\n",
    "plt.subplot(122)\n",
    "sns.boxplot(data=cap,  notch=True, palette='viridis', saturation=0.4, width=0.25)\n",
    "\n",
    "\n",
    "plt.show()"
   ]
  },
  {
   "cell_type": "code",
   "execution_count": 161,
   "metadata": {
    "scrolled": true
   },
   "outputs": [
    {
     "data": {
      "text/plain": [
       "<matplotlib.axes._subplots.AxesSubplot at 0x7fe10f991610>"
      ]
     },
     "execution_count": 161,
     "metadata": {},
     "output_type": "execute_result"
    },
    {
     "data": {
      "image/png": "[encoded data removed]",
      "text/plain": [
       "<Figure size 432x1440 with 2 Axes>"
      ]
     },
     "metadata": {
      "needs_background": "light"
     },
     "output_type": "display_data"
    }
   ],
   "source": [
    "plt.figure(figsize=(6,20))\n",
    "plt.subplot(121)\n",
    "sns.boxplot(data=pop,  notch=True, palette='rocket', saturation=0.1, width=0.25)\n",
    "plt.subplot(122)\n",
    "sns.boxplot(data=gnp,  notch=True, palette='rocket', saturation=0.4, width=0.25)"
   ]
  },
  {
   "cell_type": "code",
   "execution_count": 165,
   "metadata": {},
   "outputs": [
    {
     "name": "stdout",
     "output_type": "stream",
     "text": [
      "<class 'pandas.core.frame.DataFrame'>\n",
      "Index: 46 entries, ALB to YUG\n",
      "Data columns (total 14 columns):\n",
      " #   Column          Non-Null Count  Dtype  \n",
      "---  ------          --------------  -----  \n",
      " 0   Name            46 non-null     object \n",
      " 1   Continent       46 non-null     object \n",
      " 2   Region          46 non-null     object \n",
      " 3   SurfaceArea     46 non-null     object \n",
      " 4   IndepYear       43 non-null     float64\n",
      " 5   Population      46 non-null     int64  \n",
      " 6   LifeExpectancy  44 non-null     object \n",
      " 7   GNP             46 non-null     object \n",
      " 8   GNPOld          36 non-null     object \n",
      " 9   LocalName       46 non-null     object \n",
      " 10  GovernmentForm  46 non-null     object \n",
      " 11  HeadOfState     45 non-null     object \n",
      " 12  Capital         46 non-null     float64\n",
      " 13  Code2           46 non-null     object \n",
      "dtypes: float64(2), int64(1), object(11)\n",
      "memory usage: 5.4+ KB\n"
     ]
    }
   ],
   "source": [
    "\n",
    "europe.info()"
   ]
  },
  {
   "cell_type": "code",
   "execution_count": 169,
   "metadata": {},
   "outputs": [
    {
     "data": {
      "text/plain": [
       "array([Decimal('3205.00'), Decimal('1630.00'), Decimal('211860.00'),\n",
       "       Decimal('249704.00'), Decimal('12178.00'), Decimal('2841.00'),\n",
       "       Decimal('13714.00'), Decimal('264478.00'), Decimal('55017.00'),\n",
       "       Decimal('2133367.00'), Decimal('174099.00'), Decimal('553233.00'),\n",
       "       Decimal('5328.00'), Decimal('121914.00'), Decimal('1424285.00'),\n",
       "       Decimal('0.00'), Decimal('1378330.00'), Decimal('258.00'),\n",
       "       Decimal('120724.00'), Decimal('20208.00'), Decimal('48267.00'),\n",
       "       Decimal('75921.00'), Decimal('8255.00'), Decimal('1161755.00'),\n",
       "       Decimal('1119.00'), Decimal('10692.00'), Decimal('16321.00'),\n",
       "       Decimal('6398.00'), Decimal('776.00'), Decimal('1579.00'),\n",
       "       Decimal('1694.00'), Decimal('3512.00'), Decimal('371362.00'),\n",
       "       Decimal('145895.00'), Decimal('151697.00'), Decimal('105954.00'),\n",
       "       Decimal('38158.00'), Decimal('276608.00'), Decimal('510.00'),\n",
       "       Decimal('20594.00'), Decimal('19756.00'), Decimal('226492.00'),\n",
       "       Decimal('42168.00'), Decimal('9.00'), Decimal('17000.00')],\n",
       "      dtype=object)"
      ]
     },
     "execution_count": 169,
     "metadata": {},
     "output_type": "execute_result"
    }
   ],
   "source": [
    "europe['GNP'].unique()"
   ]
  },
  {
   "cell_type": "code",
   "execution_count": 188,
   "metadata": {},
   "outputs": [
    {
     "data": {
      "text/plain": [
       "array([Decimal('71.6'), Decimal('83.5'), Decimal('77.7'), Decimal('77.8'),\n",
       "       Decimal('70.9'), Decimal('71.5'), Decimal('68.0'), Decimal('79.6'),\n",
       "       Decimal('74.5'), Decimal('77.4'), Decimal('76.5'), Decimal('78.8'),\n",
       "       Decimal('69.5'), Decimal('78.4'), Decimal('79.0'), Decimal('73.7'),\n",
       "       Decimal('71.4'), Decimal('76.8'), Decimal('79.4'), Decimal('69.1'),\n",
       "       Decimal('77.1'), Decimal('68.4'), Decimal('64.5'), Decimal('73.8'),\n",
       "       Decimal('77.9'), Decimal('78.3'), Decimal('78.7'), Decimal('73.2'),\n",
       "       Decimal('75.8'), Decimal('69.9'), Decimal('67.2'), None,\n",
       "       Decimal('81.1'), Decimal('74.9'), Decimal('66.0'), Decimal('72.4')],\n",
       "      dtype=object)"
      ]
     },
     "execution_count": 188,
     "metadata": {},
     "output_type": "execute_result"
    }
   ],
   "source": [
    "europe['LifeExpectancy'].unique()"
   ]
  },
  {
   "cell_type": "code",
   "execution_count": 189,
   "metadata": {},
   "outputs": [
    {
     "name": "stdout",
     "output_type": "stream",
     "text": [
      "<class 'pandas.core.frame.DataFrame'>\n",
      "Index: 46 entries, ALB to YUG\n",
      "Data columns (total 14 columns):\n",
      " #   Column          Non-Null Count  Dtype  \n",
      "---  ------          --------------  -----  \n",
      " 0   Name            46 non-null     object \n",
      " 1   Continent       46 non-null     object \n",
      " 2   Region          46 non-null     object \n",
      " 3   SurfaceArea     46 non-null     object \n",
      " 4   IndepYear       43 non-null     float64\n",
      " 5   Population      46 non-null     int64  \n",
      " 6   LifeExpectancy  44 non-null     float64\n",
      " 7   GNP             46 non-null     float64\n",
      " 8   GNPOld          36 non-null     object \n",
      " 9   LocalName       46 non-null     object \n",
      " 10  GovernmentForm  46 non-null     object \n",
      " 11  HeadOfState     45 non-null     object \n",
      " 12  Capital         46 non-null     float64\n",
      " 13  Code2           46 non-null     object \n",
      "dtypes: float64(4), int64(1), object(9)\n",
      "memory usage: 6.6+ KB\n"
     ]
    },
    {
     "name": "stderr",
     "output_type": "stream",
     "text": [
      "/Users/ndaru/opt/anaconda3/envs/python37/lib/python3.7/site-packages/ipykernel_launcher.py:1: SettingWithCopyWarning: \n",
      "A value is trying to be set on a copy of a slice from a DataFrame.\n",
      "Try using .loc[row_indexer,col_indexer] = value instead\n",
      "\n",
      "See the caveats in the documentation: https://pandas.pydata.org/pandas-docs/stable/user_guide/indexing.html#returning-a-view-versus-a-copy\n",
      "  \"\"\"Entry point for launching an IPython kernel.\n",
      "/Users/ndaru/opt/anaconda3/envs/python37/lib/python3.7/site-packages/ipykernel_launcher.py:2: SettingWithCopyWarning: \n",
      "A value is trying to be set on a copy of a slice from a DataFrame.\n",
      "Try using .loc[row_indexer,col_indexer] = value instead\n",
      "\n",
      "See the caveats in the documentation: https://pandas.pydata.org/pandas-docs/stable/user_guide/indexing.html#returning-a-view-versus-a-copy\n",
      "  \n"
     ]
    }
   ],
   "source": [
    "europe['GNP']= europe['GNP'].astype(float)\n",
    "europe['LifeExpectancy'] = europe['LifeExpectancy'].astype(float)\n",
    "europe.info()"
   ]
  },
  {
   "cell_type": "code",
   "execution_count": 196,
   "metadata": {},
   "outputs": [
    {
     "name": "stdout",
     "output_type": "stream",
     "text": [
      "<class 'pandas.core.frame.DataFrame'>\n",
      "Index: 51 entries, AFG to YEM\n",
      "Data columns (total 14 columns):\n",
      " #   Column          Non-Null Count  Dtype  \n",
      "---  ------          --------------  -----  \n",
      " 0   Name            51 non-null     object \n",
      " 1   Continent       51 non-null     object \n",
      " 2   Region          51 non-null     object \n",
      " 3   SurfaceArea     51 non-null     object \n",
      " 4   IndepYear       47 non-null     float64\n",
      " 5   Population      51 non-null     int64  \n",
      " 6   LifeExpectancy  51 non-null     float64\n",
      " 7   GNP             51 non-null     float64\n",
      " 8   GNPOld          45 non-null     object \n",
      " 9   LocalName       51 non-null     object \n",
      " 10  GovernmentForm  51 non-null     object \n",
      " 11  HeadOfState     51 non-null     object \n",
      " 12  Capital         51 non-null     float64\n",
      " 13  Code2           51 non-null     object \n",
      "dtypes: float64(4), int64(1), object(9)\n",
      "memory usage: 6.0+ KB\n"
     ]
    },
    {
     "name": "stderr",
     "output_type": "stream",
     "text": [
      "/Users/ndaru/opt/anaconda3/envs/python37/lib/python3.7/site-packages/ipykernel_launcher.py:1: SettingWithCopyWarning: \n",
      "A value is trying to be set on a copy of a slice from a DataFrame.\n",
      "Try using .loc[row_indexer,col_indexer] = value instead\n",
      "\n",
      "See the caveats in the documentation: https://pandas.pydata.org/pandas-docs/stable/user_guide/indexing.html#returning-a-view-versus-a-copy\n",
      "  \"\"\"Entry point for launching an IPython kernel.\n",
      "/Users/ndaru/opt/anaconda3/envs/python37/lib/python3.7/site-packages/ipykernel_launcher.py:2: SettingWithCopyWarning: \n",
      "A value is trying to be set on a copy of a slice from a DataFrame.\n",
      "Try using .loc[row_indexer,col_indexer] = value instead\n",
      "\n",
      "See the caveats in the documentation: https://pandas.pydata.org/pandas-docs/stable/user_guide/indexing.html#returning-a-view-versus-a-copy\n",
      "  \n"
     ]
    }
   ],
   "source": [
    "asia['GNP']= asia['GNP'].astype(float)\n",
    "asia['LifeExpectancy'] = asia['LifeExpectancy'].astype(float)\n",
    "asia.info()"
   ]
  },
  {
   "cell_type": "code",
   "execution_count": 215,
   "metadata": {},
   "outputs": [
    {
     "name": "stdout",
     "output_type": "stream",
     "text": [
      "<class 'pandas.core.frame.DataFrame'>\n",
      "Index: 239 entries, ABW to ZWE\n",
      "Data columns (total 14 columns):\n",
      " #   Column          Non-Null Count  Dtype  \n",
      "---  ------          --------------  -----  \n",
      " 0   Name            239 non-null    object \n",
      " 1   Continent       239 non-null    object \n",
      " 2   Region          239 non-null    object \n",
      " 3   SurfaceArea     239 non-null    object \n",
      " 4   IndepYear       192 non-null    float64\n",
      " 5   Population      239 non-null    int64  \n",
      " 6   LifeExpectancy  222 non-null    float64\n",
      " 7   GNP             239 non-null    float64\n",
      " 8   GNPOld          178 non-null    object \n",
      " 9   LocalName       239 non-null    object \n",
      " 10  GovernmentForm  239 non-null    object \n",
      " 11  HeadOfState     238 non-null    object \n",
      " 12  Capital         232 non-null    float64\n",
      " 13  Code2           239 non-null    object \n",
      "dtypes: float64(4), int64(1), object(9)\n",
      "memory usage: 28.0+ KB\n"
     ]
    }
   ],
   "source": [
    "country = country_df.copy()\n",
    "country['GNP']= country['GNP'].astype(float)\n",
    "country['LifeExpectancy'] = country['LifeExpectancy'].astype(float)\n",
    "country.info()"
   ]
  },
  {
   "cell_type": "code",
   "execution_count": 207,
   "metadata": {},
   "outputs": [
    {
     "data": {
      "text/plain": [
       "<seaborn.axisgrid.JointGrid at 0x7fe117ec9cd0>"
      ]
     },
     "execution_count": 207,
     "metadata": {},
     "output_type": "execute_result"
    },
    {
     "data": {
      "image/png": "[encoded data removed]",
      "text/plain": [
       "<Figure size 432x432 with 3 Axes>"
      ]
     },
     "metadata": {
      "needs_background": "light"
     },
     "output_type": "display_data"
    },
    {
     "data": {
      "image/png": "[encoded data removed]",
      "text/plain": [
       "<Figure size 432x432 with 3 Axes>"
      ]
     },
     "metadata": {
      "needs_background": "light"
     },
     "output_type": "display_data"
    }
   ],
   "source": [
    "\n",
    "sns.jointplot(x=europe['GNP'], y=europe['LifeExpectancy'], kind='resid')\n",
    "\n",
    "sns.jointplot(x=asia['GNP'], y=asia['LifeExpectancy'], kind='resid')\n"
   ]
  },
  {
   "cell_type": "code",
   "execution_count": 218,
   "metadata": {},
   "outputs": [
    {
     "data": {
      "text/plain": [
       "<seaborn.axisgrid.PairGrid at 0x7fe118b00f50>"
      ]
     },
     "execution_count": 218,
     "metadata": {},
     "output_type": "execute_result"
    },
    {
     "data": {
      "image/png": "[encoded data removed]",
      "text/plain": [
       "<Figure size 540x540 with 12 Axes>"
      ]
     },
     "metadata": {
      "needs_background": "light"
     },
     "output_type": "display_data"
    }
   ],
   "source": [
    "sns.pairplot(europe[['LifeExpectancy','GNP','Population']], palette='rocket', kind='reg', diag_kind='kde')\n",
    "\n",
    "#only corelates slightly with GNP\n",
    "#whereas GNP highly correlates with population"
   ]
  },
  {
   "cell_type": "code",
   "execution_count": 211,
   "metadata": {},
   "outputs": [
    {
     "data": {
      "text/plain": [
       "<matplotlib.axes._subplots.AxesSubplot at 0x7fe11867f790>"
      ]
     },
     "execution_count": 211,
     "metadata": {},
     "output_type": "execute_result"
    },
    {
     "data": {
      "image/png": "[encoded data removed]",
      "text/plain": [
       "<Figure size 432x288 with 2 Axes>"
      ]
     },
     "metadata": {
      "needs_background": "light"
     },
     "output_type": "display_data"
    }
   ],
   "source": [
    "sns.heatmap(europe[['LifeExpectancy','GNP','Population']].corr(),annot=True,cmap='mako')\n",
    "\n",
    "# GNP only relates with population"
   ]
  },
  {
   "cell_type": "code",
   "execution_count": 213,
   "metadata": {},
   "outputs": [
    {
     "data": {
      "text/plain": [
       "<matplotlib.axes._subplots.AxesSubplot at 0x7fe1188d6490>"
      ]
     },
     "execution_count": 213,
     "metadata": {},
     "output_type": "execute_result"
    },
    {
     "data": {
      "image/png": "[encoded data removed]",
      "text/plain": [
       "<Figure size 432x288 with 2 Axes>"
      ]
     },
     "metadata": {
      "needs_background": "light"
     },
     "output_type": "display_data"
    }
   ],
   "source": [
    "sns.heatmap(asia[['LifeExpectancy','GNP','Population']].corr(),annot=True,cmap='mako')"
   ]
  },
  {
   "cell_type": "code",
   "execution_count": 217,
   "metadata": {},
   "outputs": [
    {
     "data": {
      "text/plain": [
       "<matplotlib.axes._subplots.AxesSubplot at 0x7fe1189fdc50>"
      ]
     },
     "execution_count": 217,
     "metadata": {},
     "output_type": "execute_result"
    },
    {
     "data": {
      "image/png": "[encoded data removed]",
      "text/plain": [
       "<Figure size 432x288 with 2 Axes>"
      ]
     },
     "metadata": {
      "needs_background": "light"
     },
     "output_type": "display_data"
    }
   ],
   "source": [
    "sns.heatmap(country[['LifeExpectancy','GNP','Population']].corr(),annot=True)\n",
    "\n",
    "# life expectation doesn't affected by GNP or population, it is very low"
   ]
  },
  {
   "cell_type": "markdown",
   "metadata": {},
   "source": [
    "## __correlation & covariance__"
   ]
  },
  {
   "cell_type": "code",
   "execution_count": null,
   "metadata": {},
   "outputs": [],
   "source": []
  },
  {
   "cell_type": "markdown",
   "metadata": {},
   "source": [
    "## __descriptive statistics__"
   ]
  },
  {
   "cell_type": "code",
   "execution_count": null,
   "metadata": {},
   "outputs": [],
   "source": []
  },
  {
   "cell_type": "code",
   "execution_count": null,
   "metadata": {},
   "outputs": [],
   "source": []
  },
  {
   "cell_type": "markdown",
   "metadata": {},
   "source": [
    "## __hypothetical testing__"
   ]
  },
  {
   "cell_type": "code",
   "execution_count": null,
   "metadata": {},
   "outputs": [],
   "source": []
  }
 ],
 "metadata": {
  "kernelspec": {
   "display_name": "Python 3",
   "language": "python",
   "name": "python3"
  },
  "language_info": {
   "codemirror_mode": {
    "name": "ipython",
    "version": 3
   },
   "file_extension": ".py",
   "mimetype": "text/x-python",
   "name": "python",
   "nbconvert_exporter": "python",
   "pygments_lexer": "ipython3",
   "version": "3.7.9"
  }
 },
 "nbformat": 4,
 "nbformat_minor": 4
}
